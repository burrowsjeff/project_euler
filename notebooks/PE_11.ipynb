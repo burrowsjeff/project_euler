{
 "cells": [
  {
   "cell_type": "markdown",
   "metadata": {},
   "source": [
    "# Project Euler - Problem 11"
   ]
  },
  {
   "cell_type": "markdown",
   "metadata": {},
   "source": [
    "## Largest product in a grid\n",
    "\n",
    "In the 20×20 grid below, four numbers along a diagonal line have been marked in red.\n",
    "\n",
    "    08 02 22 97 38 15 00 40 00 75 04 05 07 78 52 12 50 77 91 08\n",
    "\t49 49 99 40 17 81 18 57 60 87 17 40 98 43 69 48 04 56 62 00\n",
    "\t81 49 31 73 55 79 14 29 93 71 40 67 53 88 30 03 49 13 36 65\n",
    "\t52 70 95 23 04 60 11 42 69 24 68 56 01 32 56 71 37 02 36 91\n",
    "\t22 31 16 71 51 67 63 89 41 92 36 54 22 40 40 28 66 33 13 80\n",
    "\t24 47 32 60 99 03 45 02 44 75 33 53 78 36 84 20 35 17 12 50\n",
    "\t32 98 81 28 64 23 67 10 26 38 40 67 59 54 70 66 18 38 64 70\n",
    "\t67 26 20 68 02 62 12 20 95 63 94 39 63 08 40 91 66 49 94 21\n",
    "\t24 55 58 05 66 73 99 26 97 17 78 78 96 83 14 88 34 89 63 72\n",
    "\t21 36 23 09 75 00 76 44 20 45 35 14 00 61 33 97 34 31 33 95\n",
    "\t78 17 53 28 22 75 31 67 15 94 03 80 04 62 16 14 09 53 56 92\n",
    "\t16 39 05 42 96 35 31 47 55 58 88 24 00 17 54 24 36 29 85 57\n",
    "\t86 56 00 48 35 71 89 07 05 44 44 37 44 60 21 58 51 54 17 58\n",
    "\t19 80 81 68 05 94 47 69 28 73 92 13 86 52 17 77 04 89 55 40\n",
    "\t04 52 08 83 97 35 99 16 07 97 57 32 16 26 26 79 33 27 98 66\n",
    "\t88 36 68 87 57 62 20 72 03 46 33 67 46 55 12 32 63 93 53 69\n",
    "\t04 42 16 73 38 25 39 11 24 94 72 18 08 46 29 32 40 62 76 36\n",
    "\t20 69 36 41 72 30 23 88 34 62 99 69 82 67 59 85 74 04 36 16\n",
    "\t20 73 35 29 78 31 90 01 74 31 49 71 48 86 81 16 23 57 05 54\n",
    "\t01 70 54 71 83 51 54 69 16 92 33 48 61 43 52 01 89 19 67 48\n",
    "\n",
    "(**Note, colored font can't be shown within code blocks; to see the highlighted pattern, go [here](https://projecteuler.net/problem=11)**)\n",
    "\n",
    "The product of these numbers is 26 × 63 × 78 × 14 = 1788696.\n",
    "\n",
    "What is the greatest product of four adjacent numbers in the same direction (up, down, left, right, or diagonally) in the 20×20 grid?"
   ]
  },
  {
   "cell_type": "markdown",
   "metadata": {},
   "source": [
    "I started by importing the library, and array from a file and then playing around with the functions to see what was available:"
   ]
  },
  {
   "cell_type": "code",
   "execution_count": 20,
   "metadata": {},
   "outputs": [
    {
     "name": "stdout",
     "output_type": "stream",
     "text": [
      "[ 8. 49. 31. 23. 51.  3. 67. 20. 97. 45.  3. 24. 44. 52. 26. 32. 40.  4.\n",
      "  5. 48.]\n"
     ]
    }
   ],
   "source": [
    "from numpy import *\n",
    "\n",
    "array = loadtxt(\"11.1_array_data.txt\", delimiter=' ')\n",
    "t,z = array[:,0], array[:,3]\n",
    "\n",
    "diag_array = []\n",
    "    \n",
    "diag = 0\n",
    "\n",
    "\n",
    "print(array.diagonal(0,0,1))"
   ]
  },
  {
   "cell_type": "markdown",
   "metadata": {},
   "source": [
    "Now I will try to create a diagonal function that:\n",
    "* Starts at an index position that catches all diagonals for the array\n",
    "* Checks to see if the resulting diagonal is at least 4 values long\n",
    "* Iterates through all groupings of 4 to see if the product is greater than the existing max of all evaluated diagonals\n",
    "* Stores and prints the greatest product of 4 numbers found"
   ]
  },
  {
   "cell_type": "code",
   "execution_count": 21,
   "metadata": {},
   "outputs": [
    {
     "name": "stdout",
     "output_type": "stream",
     "text": [
      "[array([ 4., 69., 35., 71.]), array([88., 42., 36., 29., 83.]), array([ 4., 36., 16., 41., 78., 51.]), array([19., 52., 68., 73., 72., 31., 54.]), array([86., 80.,  8., 87., 38., 30., 90., 69.]), array([16., 56., 81., 83., 57., 25., 23.,  1., 16.]), array([78., 39.,  0., 68., 97., 62., 39., 88., 74., 92.]), array([21., 17.,  5., 48.,  5., 35., 20., 11., 34., 31., 33.]), array([24., 36., 53., 42., 35., 94., 99., 72., 24., 62., 49., 48.]), array([67., 55., 23., 28., 96., 71., 47., 16.,  3., 94., 99., 71., 61.]), array([32., 26., 58.,  9., 22., 35., 89., 69.,  7., 46., 72., 69., 48.,\n",
      "       43.]), array([24., 98., 20.,  5., 75., 75., 31.,  7., 28., 97., 33., 18., 82.,\n",
      "       86., 52.]), array([22., 47., 81., 68., 66.,  0., 31., 47.,  5., 73., 57., 67.,  8.,\n",
      "       67., 81.,  1.]), array([52., 31., 32., 28.,  2., 73., 76., 67., 55., 44., 92., 32., 46.,\n",
      "       46., 59., 16., 89.]), array([81., 70., 16., 60., 64., 62., 99., 44., 15., 58., 44., 13., 16.,\n",
      "       55., 29., 85., 23., 19.]), array([49., 49., 95., 71., 99., 23., 12., 26., 20., 94., 88., 37., 86.,\n",
      "       26., 12., 32., 74., 57., 67.]), array([ 8., 49., 31., 23., 51.,  3., 67., 20., 97., 45.,  3., 24., 44.,\n",
      "       52., 26., 32., 40.,  4.,  5., 48.]), array([ 2., 99., 73.,  4., 67., 45., 10., 95., 17., 35., 80.,  0., 60.,\n",
      "       17., 79., 63., 62., 36., 54.]), array([22., 40., 55., 60., 63.,  2., 26., 63., 78., 14.,  4., 17., 21.,\n",
      "       77., 33., 93., 76., 16.]), array([97., 17., 79., 11., 89., 44., 38., 94., 78.,  0., 62., 54., 58.,\n",
      "        4., 27., 53., 36.]), array([38., 81., 14., 42., 41., 75., 40., 39., 96., 61., 16., 24., 51.,\n",
      "       89., 98., 69.]), array([15., 18., 29., 69., 92., 33., 67., 63., 83., 33., 14., 36., 54.,\n",
      "       55., 66.]), array([ 0., 57., 93., 24., 36., 53., 59.,  8., 14., 97.,  9., 29., 17.,\n",
      "       40.]), array([40., 60., 71., 68., 54., 78., 54., 40., 88., 34., 53., 85., 58.]), array([ 0., 87., 40., 56., 22., 36., 70., 91., 34., 31., 56., 57.]), array([75., 17., 67.,  1., 40., 84., 66., 66., 89., 33., 92.]), array([ 4., 40., 53., 32., 40., 20., 18., 49., 63., 95.]), array([ 5., 98., 88., 56., 28., 35., 38., 94., 72.]), array([ 7., 43., 30., 71., 66., 17., 64., 21.]), array([78., 69.,  3., 37., 33., 12., 70.]), array([52., 48., 49.,  2., 13., 50.]), array([12.,  4., 13., 36., 80.])]\n"
     ]
    }
   ],
   "source": [
    "for a in range(4-array.shape[1],array.shape[1]-4):\n",
    "    diag_array.append(array.diagonal(a,0,1))\n",
    "    \n",
    "print(diag_array)\n",
    "    \n",
    "#    print(array.diagonal(a,0,1))\n",
    "#    while len(array.diagonal(a,0,1)) >= 3:\n",
    "#        print(array.diagonal(a,0,1))\n",
    "#    for b in range(0,len(array.diagonal(a,0,1))):\n",
    "#        print(array.diagonal[b:len(array.diagonal(a,0,1)-3)])"
   ]
  },
  {
   "cell_type": "code",
   "execution_count": null,
   "metadata": {},
   "outputs": [],
   "source": []
  }
 ],
 "metadata": {
  "kernelspec": {
   "display_name": "Python 3",
   "language": "python",
   "name": "python3"
  },
  "language_info": {
   "codemirror_mode": {
    "name": "ipython",
    "version": 3
   },
   "file_extension": ".py",
   "mimetype": "text/x-python",
   "name": "python",
   "nbconvert_exporter": "python",
   "pygments_lexer": "ipython3",
   "version": "3.6.4"
  }
 },
 "nbformat": 4,
 "nbformat_minor": 2
}
