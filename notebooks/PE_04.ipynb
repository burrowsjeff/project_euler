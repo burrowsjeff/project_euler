{
 "cells": [
  {
   "cell_type": "markdown",
   "metadata": {},
   "source": [
    "# Project Euler - Problem 04"
   ]
  },
  {
   "cell_type": "markdown",
   "metadata": {},
   "source": [
    "## Largest palindrome product\n",
    "\n",
    "A palindromic number reads the same both ways. The largest palindrome made from the product of two 2-digit numbers is 9009 = 91 × 99.\n",
    "\n",
    "Find the largest palindrome made from the product of two 3-digit numbers."
   ]
  },
  {
   "cell_type": "code",
   "execution_count": 2,
   "metadata": {},
   "outputs": [
    {
     "name": "stdout",
     "output_type": "stream",
     "text": [
      "The final palindrome was found to be 906609\n"
     ]
    }
   ],
   "source": [
    "a = 100\n",
    "b = 100\n",
    "p = []\n",
    "\n",
    "def palindrome_check():\n",
    "\tresult = str(a * b)\n",
    "\treverse = result[::-1]\n",
    "\tif result == reverse:\n",
    "\t\tp.append(int(result))\n",
    "#\t\tprint('You found the palindrome', a * b, 'found with', a, '&', b)\n",
    "\n",
    "for a in range(100,999):\n",
    "\tpalindrome_check()\n",
    "\tfor b in range(100, 999):\n",
    "\t\tpalindrome_check()\n",
    "\n",
    "print('The final palindrome was found to be', max(p))"
   ]
  },
  {
   "cell_type": "code",
   "execution_count": null,
   "metadata": {},
   "outputs": [],
   "source": []
  }
 ],
 "metadata": {
  "kernelspec": {
   "display_name": "Python 3",
   "language": "python",
   "name": "python3"
  },
  "language_info": {
   "codemirror_mode": {
    "name": "ipython",
    "version": 3
   },
   "file_extension": ".py",
   "mimetype": "text/x-python",
   "name": "python",
   "nbconvert_exporter": "python",
   "pygments_lexer": "ipython3",
   "version": "3.6.4"
  }
 },
 "nbformat": 4,
 "nbformat_minor": 2
}
