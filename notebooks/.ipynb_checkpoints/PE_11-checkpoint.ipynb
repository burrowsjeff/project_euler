{
 "cells": [
  {
   "cell_type": "markdown",
   "metadata": {},
   "source": [
    "# Project Euler - Problem 11"
   ]
  },
  {
   "cell_type": "markdown",
   "metadata": {},
   "source": [
    "## Largest product in a grid\n",
    "\n",
    "In the 20×20 grid below, four numbers along a diagonal line have been marked in red.\n",
    "\n",
    "    08 02 22 97 38 15 00 40 00 75 04 05 07 78 52 12 50 77 91 08\n",
    "\t49 49 99 40 17 81 18 57 60 87 17 40 98 43 69 48 04 56 62 00\n",
    "\t81 49 31 73 55 79 14 29 93 71 40 67 53 88 30 03 49 13 36 65\n",
    "\t52 70 95 23 04 60 11 42 69 24 68 56 01 32 56 71 37 02 36 91\n",
    "\t22 31 16 71 51 67 63 89 41 92 36 54 22 40 40 28 66 33 13 80\n",
    "\t24 47 32 60 99 03 45 02 44 75 33 53 78 36 84 20 35 17 12 50\n",
    "\t32 98 81 28 64 23 67 10 26 38 40 67 59 54 70 66 18 38 64 70\n",
    "\t67 26 20 68 02 62 12 20 95 63 94 39 63 08 40 91 66 49 94 21\n",
    "\t24 55 58 05 66 73 99 26 97 17 78 78 96 83 14 88 34 89 63 72\n",
    "\t21 36 23 09 75 00 76 44 20 45 35 14 00 61 33 97 34 31 33 95\n",
    "\t78 17 53 28 22 75 31 67 15 94 03 80 04 62 16 14 09 53 56 92\n",
    "\t16 39 05 42 96 35 31 47 55 58 88 24 00 17 54 24 36 29 85 57\n",
    "\t86 56 00 48 35 71 89 07 05 44 44 37 44 60 21 58 51 54 17 58\n",
    "\t19 80 81 68 05 94 47 69 28 73 92 13 86 52 17 77 04 89 55 40\n",
    "\t04 52 08 83 97 35 99 16 07 97 57 32 16 26 26 79 33 27 98 66\n",
    "\t88 36 68 87 57 62 20 72 03 46 33 67 46 55 12 32 63 93 53 69\n",
    "\t04 42 16 73 38 25 39 11 24 94 72 18 08 46 29 32 40 62 76 36\n",
    "\t20 69 36 41 72 30 23 88 34 62 99 69 82 67 59 85 74 04 36 16\n",
    "\t20 73 35 29 78 31 90 01 74 31 49 71 48 86 81 16 23 57 05 54\n",
    "\t01 70 54 71 83 51 54 69 16 92 33 48 61 43 52 01 89 19 67 48\n",
    "\n",
    "(**Note, colored font can't be shown within code blocks; to see the highlighted pattern, go [here](https://projecteuler.net/problem=11)**)\n",
    "\n",
    "The product of these numbers is 26 × 63 × 78 × 14 = 1788696.\n",
    "\n",
    "What is the greatest product of four adjacent numbers in the same direction (up, down, left, right, or diagonally) in the 20×20 grid?"
   ]
  },
  {
   "cell_type": "markdown",
   "metadata": {},
   "source": [
    "I started by importing the library, and array from a file and then playing around with the functions to see what was available:"
   ]
  },
  {
   "cell_type": "markdown",
   "metadata": {},
   "source": [
    "from numpy import *\n",
    "\n",
    "array = loadtxt(\"11.1_array_data.txt\", delimiter=' ')\n",
    "t,z = array[:,0], array[:,3]\n",
    "\n",
    "diag_array = []\n",
    "    \n",
    "diag = 0\n",
    "\n",
    "\n",
    "print(array.diagonal(0,0,1))"
   ]
  },
  {
   "cell_type": "code",
   "execution_count": 57,
   "metadata": {},
   "outputs": [
    {
     "name": "stdout",
     "output_type": "stream",
     "text": [
      "48477312.0\n",
      "51267216.0\n"
     ]
    }
   ],
   "source": [
    "from numpy import *\n",
    "\n",
    "array = loadtxt(\"11.1_array_data.txt\", delimiter=' ')\n",
    "t,z = array[:,0], array[:,3]\n",
    "\n",
    "a = 0\n",
    "c = 1\n",
    "horiz = 0\n",
    "vert = 0\n",
    "rdiag = 0\n",
    "ldiag = 0\n",
    "\n",
    "#print(array[0:4,1])\n",
    "#^^ Prints first 4 from first column\n",
    "\n",
    "while a <= (len(array)-4):\n",
    "    for b in range(0,len(array)):\n",
    "#        print(array[b,a:a+4])   \n",
    "        if (int(array[b,a]*array[b,a+1]*array[b,a+2]*array[b,a+3])) > horiz:\n",
    "            horiz = (array[b,a]*array[b,a+1]*array[b,a+2]*array[b,a+3])\n",
    "    a += 1\n",
    "\n",
    "print(horiz)\n",
    "\n",
    "while c <= (len(array)-1):\n",
    "    for d in range(0,len(array)-3):\n",
    "#        print(array[d:d+4,c])        \n",
    "        if (int(array[d,c]*array[d+1,c]*array[d+2,c]*array[d+3,c])) > vert:\n",
    "            vert = (array[d,c]*array[d+1,c]*array[d+2,c]*array[d+3,c])\n",
    "    c += 1\n",
    "\n",
    "print(vert)"
   ]
  },
  {
   "cell_type": "markdown",
   "metadata": {},
   "source": [
    "Now I will try to create a diagonal function that:\n",
    "* Starts at an index position that catches all diagonals for the array\n",
    "* Checks to see if the resulting diagonal is at least 4 values long\n",
    "* Iterates through all groupings of 4 to see if the product is greater than the existing max of all evaluated diagonals\n",
    "* Stores and prints the greatest product of 4 numbers found"
   ]
  },
  {
   "cell_type": "markdown",
   "metadata": {},
   "source": [
    "for a in range(4-array.shape[1],array.shape[1]-4):\n",
    "    diag_array.append(array.diagonal(a,0,1))\n",
    "    \n",
    "print(diag_array)\n",
    "    \n",
    "#    print(array.diagonal(a,0,1))\n",
    "#    while len(array.diagonal(a,0,1)) >= 3:\n",
    "#        print(array.diagonal(a,0,1))\n",
    "#    for b in range(0,len(array.diagonal(a,0,1))):\n",
    "#        print(array.diagonal[b:len(array.diagonal(a,0,1)-3)])"
   ]
  },
  {
   "cell_type": "code",
   "execution_count": null,
   "metadata": {},
   "outputs": [],
   "source": []
  }
 ],
 "metadata": {
  "kernelspec": {
   "display_name": "Python 3",
   "language": "python",
   "name": "python3"
  },
  "language_info": {
   "codemirror_mode": {
    "name": "ipython",
    "version": 3
   },
   "file_extension": ".py",
   "mimetype": "text/x-python",
   "name": "python",
   "nbconvert_exporter": "python",
   "pygments_lexer": "ipython3",
   "version": "3.6.4"
  }
 },
 "nbformat": 4,
 "nbformat_minor": 2
}
