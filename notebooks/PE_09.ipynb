{
 "cells": [
  {
   "cell_type": "markdown",
   "metadata": {},
   "source": [
    "# Project Euler - Problem 09"
   ]
  },
  {
   "cell_type": "markdown",
   "metadata": {},
   "source": [
    "## Special Pythagorean triplet\n",
    "\n",
    "A Pythagorean triplet is a set of three natural numbers, a < b < c, for which,\n",
    "\n",
    "a<sup>2</sup> + b<sup>2</sup> = c<sup>2</sup>\n",
    "For example, 3<sup>2</sup> + 4<sup>2</sup> = 9 + 16 = 25 = 5<sup>2</sup>.\n",
    "\n",
    "There exists exactly one Pythagorean triplet for which a + b + c = 1000.\n",
    "Find the product abc."
   ]
  },
  {
   "cell_type": "code",
   "execution_count": 1,
   "metadata": {},
   "outputs": [
    {
     "name": "stdout",
     "output_type": "stream",
     "text": [
      "A = 200 B = 375 C = 425.0\n",
      "Product is 31875000.0\n"
     ]
    }
   ],
   "source": [
    "from math import sqrt\n",
    "from math import pow\n",
    "\n",
    "a = 1\n",
    "\n",
    "while a <= 333:\n",
    "\tfor b in range((a+1), 666):\n",
    "\t\tc = sqrt(pow(a,2) + pow(b,2))\n",
    "\t\tif (a + b + c) == 1000:\n",
    "\t\t\tprint('A =', a, 'B =', b, 'C =', c)\n",
    "\t\t\tprint('Product is', (a * b * c))\n",
    "\t\t\tbreak\n",
    "\ta += 1"
   ]
  },
  {
   "cell_type": "code",
   "execution_count": null,
   "metadata": {},
   "outputs": [],
   "source": []
  }
 ],
 "metadata": {
  "kernelspec": {
   "display_name": "Python 3",
   "language": "python",
   "name": "python3"
  },
  "language_info": {
   "codemirror_mode": {
    "name": "ipython",
    "version": 3
   },
   "file_extension": ".py",
   "mimetype": "text/x-python",
   "name": "python",
   "nbconvert_exporter": "python",
   "pygments_lexer": "ipython3",
   "version": "3.6.4"
  }
 },
 "nbformat": 4,
 "nbformat_minor": 2
}
